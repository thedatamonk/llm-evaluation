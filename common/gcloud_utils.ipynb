{
 "cells": [
  {
   "cell_type": "code",
   "execution_count": 1,
   "id": "fbfc374c",
   "metadata": {},
   "outputs": [],
   "source": [
    "import vertexai\n",
    "from vertexai.tuning import sft\n",
    "from dotenv import load_dotenv\n",
    "import os\n",
    "\n",
    "load_dotenv(dotenv_path=\"../finetuning/.env\")\n",
    "PROJECT_ID = os.getenv(\"PROJECT_ID\")\n",
    "LOCATION = os.getenv(\"LOCATION\")\n",
    "\n",
    "vertexai.init(project=PROJECT_ID, location=LOCATION)"
   ]
  },
  {
   "cell_type": "markdown",
   "id": "26e270e6",
   "metadata": {},
   "source": [
    "## List all tuning jobs in the current project and location"
   ]
  },
  {
   "cell_type": "code",
   "execution_count": 2,
   "id": "00637ee9",
   "metadata": {},
   "outputs": [
    {
     "name": "stdout",
     "output_type": "stream",
     "text": [
      "<vertexai.tuning._supervised_tuning.SupervisedTuningJob object at 0x13d656860> \n",
      "resource name: projects/710805310428/locations/us-central1/tuningJobs/8358076400342663168\n",
      "<vertexai.tuning._supervised_tuning.SupervisedTuningJob object at 0x13d6570d0> \n",
      "resource name: projects/710805310428/locations/us-central1/tuningJobs/2675659570507939840\n"
     ]
    }
   ],
   "source": [
    "responses = sft.SupervisedTuningJob.list()\n",
    "\n",
    "for response in responses:\n",
    "    print(response)\n",
    "# Example response:\n",
    "# <vertexai.tuning._supervised_tuning.SupervisedTuningJob object at 0x7c85287b2680>\n",
    "# resource name: projects/12345678/locations/us-central1/tuningJobs/123456789012345"
   ]
  },
  {
   "cell_type": "markdown",
   "id": "07b44faa",
   "metadata": {},
   "source": [
    "## Get tuning job details"
   ]
  },
  {
   "cell_type": "code",
   "execution_count": 3,
   "id": "650d1526",
   "metadata": {},
   "outputs": [
    {
     "name": "stderr",
     "output_type": "stream",
     "text": [
      "/opt/miniconda3/envs/dummy-env/lib/python3.10/site-packages/vertexai/tuning/_tuning.py:74: UserWarning: This feature is deprecated as of June 24, 2025 and will be removed on June 24, 2026. For details, see https://cloud.google.com/vertex-ai/generative-ai/docs/deprecations/genai-vertexai-sdk.\n",
      "  warning_logs.show_deprecation_warning()\n"
     ]
    },
    {
     "data": {
      "text/html": [
       "\n",
       "        \n",
       "    <link rel=\"stylesheet\" href=\"https://fonts.googleapis.com/icon?family=Material+Icons\">\n",
       "    <style>\n",
       "      .view-vertex-resource,\n",
       "      .view-vertex-resource:hover,\n",
       "      .view-vertex-resource:visited {\n",
       "        position: relative;\n",
       "        display: inline-flex;\n",
       "        flex-direction: row;\n",
       "        height: 32px;\n",
       "        padding: 0 12px;\n",
       "          margin: 4px 18px;\n",
       "        gap: 4px;\n",
       "        border-radius: 4px;\n",
       "\n",
       "        align-items: center;\n",
       "        justify-content: center;\n",
       "        background-color: rgb(255, 255, 255);\n",
       "        color: rgb(51, 103, 214);\n",
       "\n",
       "        font-family: Roboto,\"Helvetica Neue\",sans-serif;\n",
       "        font-size: 13px;\n",
       "        font-weight: 500;\n",
       "        text-transform: uppercase;\n",
       "        text-decoration: none !important;\n",
       "\n",
       "        transition: box-shadow 280ms cubic-bezier(0.4, 0, 0.2, 1) 0s;\n",
       "        box-shadow: 0px 3px 1px -2px rgba(0,0,0,0.2), 0px 2px 2px 0px rgba(0,0,0,0.14), 0px 1px 5px 0px rgba(0,0,0,0.12);\n",
       "      }\n",
       "      .view-vertex-resource:active {\n",
       "        box-shadow: 0px 5px 5px -3px rgba(0,0,0,0.2),0px 8px 10px 1px rgba(0,0,0,0.14),0px 3px 14px 2px rgba(0,0,0,0.12);\n",
       "      }\n",
       "      .view-vertex-resource:active .view-vertex-ripple::before {\n",
       "        position: absolute;\n",
       "        top: 0;\n",
       "        bottom: 0;\n",
       "        left: 0;\n",
       "        right: 0;\n",
       "        border-radius: 4px;\n",
       "        pointer-events: none;\n",
       "\n",
       "        content: '';\n",
       "        background-color: rgb(51, 103, 214);\n",
       "        opacity: 0.12;\n",
       "      }\n",
       "      .view-vertex-icon {\n",
       "        font-size: 18px;\n",
       "      }\n",
       "    </style>\n",
       "  \n",
       "        <a class=\"view-vertex-resource\" id=\"view-vertex-resource-bdf6a9ba-cde6-4157-a51f-8067b09cef7d\" href=\"#view-view-vertex-resource-bdf6a9ba-cde6-4157-a51f-8067b09cef7d\">\n",
       "          <span class=\"material-icons view-vertex-icon\">tune</span>\n",
       "          <span>View Tuning Job</span>\n",
       "        </a>\n",
       "        \n",
       "        <script>\n",
       "          (function () {\n",
       "            const link = document.getElementById('view-vertex-resource-bdf6a9ba-cde6-4157-a51f-8067b09cef7d');\n",
       "            link.addEventListener('click', (e) => {\n",
       "              if (window.google?.colab?.openUrl) {\n",
       "                window.google.colab.openUrl('https://console.cloud.google.com/vertex-ai/generative/language/locations/us-central1/tuning/tuningJob/8358076400342663168?project=710805310428');\n",
       "              } else {\n",
       "                window.open('https://console.cloud.google.com/vertex-ai/generative/language/locations/us-central1/tuning/tuningJob/8358076400342663168?project=710805310428', '_blank');\n",
       "              }\n",
       "              e.stopPropagation();\n",
       "              e.preventDefault();\n",
       "            });\n",
       "          })();\n",
       "        </script>\n",
       "    "
      ],
      "text/plain": [
       "<IPython.core.display.HTML object>"
      ]
     },
     "metadata": {},
     "output_type": "display_data"
    },
    {
     "name": "stdout",
     "output_type": "stream",
     "text": [
      "<vertexai.tuning._supervised_tuning.SupervisedTuningJob object at 0x13d61e380> \n",
      "resource name: projects/710805310428/locations/us-central1/tuningJobs/8358076400342663168\n"
     ]
    }
   ],
   "source": [
    "import vertexai\n",
    "from vertexai.tuning import sft\n",
    "\n",
    "# TODO(developer): Update and un-comment below lines\n",
    "\n",
    "tuning_job_id = \"8358076400342663168\"\n",
    "response = sft.SupervisedTuningJob(\n",
    "    f\"projects/{PROJECT_ID}/locations/{LOCATION}/tuningJobs/{tuning_job_id}\"\n",
    ")\n",
    "\n",
    "print(response)\n",
    "# Example response:\n",
    "# <vertexai.tuning._supervised_tuning.SupervisedTuningJob object at 0x7cc4bb20baf0>\n",
    "# resource name: projects/1234567890/locations/us-central1/tuningJobs/4982013113894174720"
   ]
  },
  {
   "cell_type": "code",
   "execution_count": null,
   "id": "5f46d5df",
   "metadata": {},
   "outputs": [],
   "source": []
  }
 ],
 "metadata": {
  "kernelspec": {
   "display_name": "dummy-env",
   "language": "python",
   "name": "python3"
  },
  "language_info": {
   "codemirror_mode": {
    "name": "ipython",
    "version": 3
   },
   "file_extension": ".py",
   "mimetype": "text/x-python",
   "name": "python",
   "nbconvert_exporter": "python",
   "pygments_lexer": "ipython3",
   "version": "3.10.14"
  }
 },
 "nbformat": 4,
 "nbformat_minor": 5
}
